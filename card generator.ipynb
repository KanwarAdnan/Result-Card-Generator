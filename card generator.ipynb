{
 "cells": [
  {
   "cell_type": "code",
   "execution_count": 1,
   "id": "3a3038c7",
   "metadata": {},
   "outputs": [],
   "source": [
    "import pandas as pd\n",
    "from PIL import Image, ImageDraw, ImageFont"
   ]
  },
  {
   "cell_type": "code",
   "execution_count": 16,
   "id": "4ad8f8e0",
   "metadata": {},
   "outputs": [],
   "source": [
    "data = \"results.csv\""
   ]
  },
  {
   "cell_type": "code",
   "execution_count": 17,
   "id": "80ef5ee5",
   "metadata": {},
   "outputs": [],
   "source": [
    "df = pd.read_csv(data)"
   ]
  },
  {
   "cell_type": "code",
   "execution_count": 94,
   "id": "0f466611",
   "metadata": {},
   "outputs": [],
   "source": [
    "data = df.to_dict(orient='records')"
   ]
  },
  {
   "cell_type": "code",
   "execution_count": 95,
   "id": "0420c5c2",
   "metadata": {},
   "outputs": [],
   "source": [
    "font = ImageFont.truetype(\"Agrandir-wide.otf\", size=40)"
   ]
  },
  {
   "cell_type": "code",
   "execution_count": 96,
   "id": "53b6eddc",
   "metadata": {},
   "outputs": [],
   "source": [
    "def makeCards(data):\n",
    "    template = Image.open(\"template.png\")\n",
    "    draw = ImageDraw.Draw(template)\n",
    "\n",
    "    draw.text((730, 320), str(data['Name'].upper()), font=font, fill='white')\n",
    "    draw.text((730, 440), str(data['Uni Roll No.']), font=font, fill='white')\n",
    "    draw.text((730, 560), str(data['Roll No.']), font=font, fill='white')\n",
    "    draw.text((730, 670), str(data['1st']), font=font, fill='white')\n",
    "    draw.text((730, 785), str(data['2nd']), font=font, fill='white')\n",
    "    draw.text((730, 900), str(data['3rd']), font=font, fill='white')\n",
    "    draw.text((730, 1010), str(data['CGPA']), font=font, fill='white')\n",
    "    draw.text((730, 1120), str(data['Status']), font=font, fill='white')\n",
    "\n",
    "    return template"
   ]
  },
  {
   "cell_type": "code",
   "execution_count": 102,
   "id": "6f731224",
   "metadata": {},
   "outputs": [],
   "source": [
    "for record in data:\n",
    "    card = makeCards(record)\n",
    "    card = card.convert('RGB')\n",
    "    card.save(f\"results/{record['Roll No.']}.jpg\")"
   ]
  }
 ],
 "metadata": {
  "kernelspec": {
   "display_name": "Python 3 (ipykernel)",
   "language": "python",
   "name": "python3"
  },
  "language_info": {
   "codemirror_mode": {
    "name": "ipython",
    "version": 3
   },
   "file_extension": ".py",
   "mimetype": "text/x-python",
   "name": "python",
   "nbconvert_exporter": "python",
   "pygments_lexer": "ipython3",
   "version": "3.10.4"
  }
 },
 "nbformat": 4,
 "nbformat_minor": 5
}
